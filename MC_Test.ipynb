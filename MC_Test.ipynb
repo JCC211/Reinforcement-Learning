{
 "cells": [
  {
   "cell_type": "code",
   "execution_count": 1,
   "id": "f5ee4044-54a5-4475-9d91-30c39598dafe",
   "metadata": {},
   "outputs": [
    {
     "data": {
      "text/plain": [
       "<torch._C.Generator at 0x7f92b371e130>"
      ]
     },
     "execution_count": 1,
     "metadata": {},
     "output_type": "execute_result"
    }
   ],
   "source": [
    "# imports\n",
    "from tqdm import tqdm\n",
    "import torch\n",
    "import torch.nn as nn\n",
    "import torch.nn.functional as F\n",
    "from torch.optim import Adam,SGD\n",
    "from collections import deque\n",
    "import random\n",
    "from matplotlib import pyplot as plt\n",
    "import copy\n",
    "import numpy as np\n",
    "import gym\n",
    "from torchsummary import summary\n",
    "import warnings\n",
    "warnings.filterwarnings('ignore')\n",
    "\n",
    "# set seed for torch library\n",
    "torch.manual_seed(33)"
   ]
  },
  {
   "cell_type": "code",
   "execution_count": 2,
   "id": "820a9e94-be12-4f01-ac1d-0735deb0437d",
   "metadata": {},
   "outputs": [],
   "source": [
    "# create NN for model; 2 inputs and 3 outputs\n",
    "class Net(nn.Module):\n",
    "    \n",
    "    # NN structure\n",
    "    # 1 hidden layer with less neurons\n",
    "    def __init__(self):\n",
    "        super(Net,self).__init__()\n",
    "        self.fc1 = nn.Linear(2,42)\n",
    "        #self.fc2 = nn.Linear(128,64)\n",
    "        #self.fc3 = nn.Linear(64,32)\n",
    "        self.fc5 = nn.Linear(42,42)\n",
    "        self.fc4 = nn.Linear(42,3)\n",
    "        \n",
    "    # pass forward function    \n",
    "    def forward(self,x):\n",
    "        x = F.relu(self.fc1(x))\n",
    "        #x = F.relu(self.fc2(x))\n",
    "        #x = F.relu(self.fc3(x))\n",
    "        x = F.relu(self.fc5(x))\n",
    "        x = self.fc4(x)\n",
    "        return x"
   ]
  },
  {
   "cell_type": "code",
   "execution_count": 3,
   "id": "8d6542fd-d5d0-48a7-9322-e97b98a2a321",
   "metadata": {},
   "outputs": [
    {
     "name": "stdout",
     "output_type": "stream",
     "text": [
      "0 200\n",
      "1 200\n",
      "2 200\n",
      "3 200\n",
      "4 95\n",
      "5 200\n",
      "6 87\n",
      "7 200\n",
      "8 200\n",
      "9 188\n"
     ]
    }
   ],
   "source": [
    "# # Test the model\n",
    "env = gym.make('MountainCar-v0')\n",
    "model_test = torch.load('MCkindaWorks.pth')\n",
    "for e in range(10):\n",
    "    sta = env.reset()\n",
    "    sta = torch.from_numpy(sta)\n",
    "    done = False\n",
    "    i = 0\n",
    "    while not done:\n",
    "        env.render()\n",
    "        action = torch.argmax(model_test(sta))\n",
    "        new_sta, rew, done, _ = env.step(action.item())\n",
    "        sta = torch.from_numpy(new_sta)\n",
    "        i += 1\n",
    "        if done:\n",
    "            print(e, i)\n",
    "            #break"
   ]
  },
  {
   "cell_type": "code",
   "execution_count": null,
   "id": "893dea00-73ac-46a8-89f6-3da6ea23c8be",
   "metadata": {},
   "outputs": [],
   "source": []
  }
 ],
 "metadata": {
  "kernelspec": {
   "display_name": "Python 3 (ipykernel)",
   "language": "python",
   "name": "python3"
  },
  "language_info": {
   "codemirror_mode": {
    "name": "ipython",
    "version": 3
   },
   "file_extension": ".py",
   "mimetype": "text/x-python",
   "name": "python",
   "nbconvert_exporter": "python",
   "pygments_lexer": "ipython3",
   "version": "3.10.12"
  }
 },
 "nbformat": 4,
 "nbformat_minor": 5
}
